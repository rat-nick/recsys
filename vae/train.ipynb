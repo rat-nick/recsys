{
 "cells": [
  {
   "cell_type": "code",
   "execution_count": 12,
   "metadata": {},
   "outputs": [
    {
     "name": "stdout",
     "output_type": "stream",
     "text": [
      "['/home/nikola/projects/deepRec/recsys/vae', '/usr/lib/python310.zip', '/usr/lib/python3.10', '/usr/lib/python3.10/lib-dynload', '', '/home/nikola/projects/deepRec/recsys/env/lib/python3.10/site-packages', '/home/nikola/projects/deepRec/recsys', '/tmp/tmplcdvaace', '/home/nikola/projects/deepRec/recsys']\n"
     ]
    }
   ],
   "source": [
    "import sys\n",
    "\n",
    "sys.path.append(\"/home/nikola/projects/deepRec/recsys\")\n",
    "print(sys.path)"
   ]
  },
  {
   "cell_type": "code",
   "execution_count": 14,
   "metadata": {},
   "outputs": [
    {
     "name": "stdout",
     "output_type": "stream",
     "text": [
      "1682 943\n"
     ]
    }
   ],
   "source": [
    "from core.dataset import DatasetFactory\n",
    "from dataset import Dataset\n",
    "from torch.utils.data import DataLoader\n",
    "\n",
    "cutoff = lambda x: 1.0 if x >= 3.5 else 0.0  # function for generating implicit ratings\n",
    "\n",
    "dataset = DatasetFactory(\"../data/ml-100k/u.data\", sep=\"|\").create_dataset(\n",
    "    filters=lambda df: df.groupby(\"user\").filter(lambda x: len(x) >= 20)\n",
    ")\n",
    "print(dataset.n_items, dataset.n_users)\n",
    "train, valid, test = dataset.tvt(mode=\"user\")\n",
    "\n",
    "train = Dataset(train, dataset.n_features, cutoff)\n",
    "valid = Dataset(valid, dataset.n_features, cutoff)\n",
    "test = Dataset(test, dataset.n_features, cutoff)\n",
    "\n",
    "train = DataLoader(train, batch_size=100, num_workers=12)\n",
    "valid = DataLoader(valid, batch_size=1, num_workers=12)\n",
    "test = DataLoader(test, batch_size=1, num_workers=12)"
   ]
  },
  {
   "cell_type": "code",
   "execution_count": null,
   "metadata": {},
   "outputs": [],
   "source": [
    "from model import Model\n",
    "\n",
    "model = Model(dataset.n_items, 200)"
   ]
  },
  {
   "cell_type": "code",
   "execution_count": null,
   "metadata": {},
   "outputs": [],
   "source": [
    "import pytorch_lightning as pl\n",
    "from pytorch_lightning.callbacks import EarlyStopping\n",
    "\n",
    "trainer = pl.Trainer(\n",
    "    max_epochs=200,\n",
    "    log_every_n_steps=20,\n",
    "    callbacks=[EarlyStopping(monitor=\"ndcg@100\", mode=\"max\", patience=10)],\n",
    ")"
   ]
  },
  {
   "cell_type": "code",
   "execution_count": null,
   "metadata": {},
   "outputs": [],
   "source": [
    "trainer.fit(model, train, valid)"
   ]
  },
  {
   "cell_type": "code",
   "execution_count": null,
   "metadata": {},
   "outputs": [],
   "source": [
    "trainer.test(model, test)"
   ]
  }
 ],
 "metadata": {
  "kernelspec": {
   "display_name": "env",
   "language": "python",
   "name": "python3"
  },
  "language_info": {
   "codemirror_mode": {
    "name": "ipython",
    "version": 3
   },
   "file_extension": ".py",
   "mimetype": "text/x-python",
   "name": "python",
   "nbconvert_exporter": "python",
   "pygments_lexer": "ipython3",
   "version": "3.10.6"
  },
  "orig_nbformat": 4
 },
 "nbformat": 4,
 "nbformat_minor": 2
}
